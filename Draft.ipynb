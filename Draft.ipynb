{
 "cells": [
  {
   "cell_type": "markdown",
   "id": "31f5436d",
   "metadata": {
    "toc": true
   },
   "source": [
    "<h1>Table of Contents<span class=\"tocSkip\"></span></h1>\n",
    "<div class=\"toc\"><ul class=\"toc-item\"></ul></div>"
   ]
  },
  {
   "cell_type": "code",
   "execution_count": 1,
   "id": "af4e4841",
   "metadata": {},
   "outputs": [],
   "source": [
    "import os \n",
    "\n",
    "from dotenv import load_dotenv\n",
    "\n",
    "from src.facebook_friend_network_scanner import FacebookFriendNetworkScanner\n",
    "from src.friend_set import FriendSet"
   ]
  },
  {
   "cell_type": "code",
   "execution_count": 2,
   "id": "1020b52c",
   "metadata": {},
   "outputs": [],
   "source": [
    "load_dotenv();"
   ]
  },
  {
   "cell_type": "code",
   "execution_count": 3,
   "id": "716dbb55",
   "metadata": {},
   "outputs": [
    {
     "name": "stderr",
     "output_type": "stream",
     "text": [
      "\n",
      "\n",
      "====== WebDriver manager ======\n",
      "Current google-chrome version is 92.0.4515\n",
      "Get LATEST driver version for 92.0.4515\n",
      "Driver [C:\\Users\\chana\\.wdm\\drivers\\chromedriver\\win32\\92.0.4515.107\\chromedriver.exe] found in cache\n"
     ]
    },
    {
     "name": "stdout",
     "output_type": "stream",
     "text": [
      "Facebook Friend Network initialized\n"
     ]
    }
   ],
   "source": [
    "fffn = FacebookFriendNetworkScanner(os.getenv(\"user\"), os.getenv(\"password\"), visible_browser=True)"
   ]
  },
  {
   "cell_type": "code",
   "execution_count": 4,
   "id": "8fb42a3b",
   "metadata": {},
   "outputs": [],
   "source": [
    "fffn.read_all_friends_from_graphql_api()"
   ]
  },
  {
   "cell_type": "code",
   "execution_count": 5,
   "id": "8925a79f",
   "metadata": {},
   "outputs": [],
   "source": [
    "friend = FriendSet(fffn.friends).filter(name=\"Pedro Piñera Buendía\")\n",
    "fffn.read_mutual_friends_from_friend_profile(friend.user_id)"
   ]
  },
  {
   "cell_type": "code",
   "execution_count": 6,
   "id": "a5ee4e0f",
   "metadata": {},
   "outputs": [
    {
     "data": {
      "text/plain": [
       "{'100041919610507': [Friend(Aitor MmHh),\n",
       "  Friend(Albert GB),\n",
       "  Friend(Alejandro Jiménez Sáez),\n",
       "  Friend(Bea Puig Lana),\n",
       "  Friend(Carles Garrido),\n",
       "  Friend(Carlos Hernández Franco),\n",
       "  Friend(David Martínez Urrea),\n",
       "  Friend(Guillermo Serrano),\n",
       "  Friend(Javier Ossorio García),\n",
       "  Friend(Lorenzo Delgado Antequera),\n",
       "  Friend(Pablo Micó Soler),\n",
       "  Friend(Patricia De Marco Carrión),\n",
       "  Friend(Sandra Marín),\n",
       "  Friend(Sara Rodríguez),\n",
       "  Friend(Vicent Molés Cases),\n",
       "  Friend(Vladimir Staver)]}"
      ]
     },
     "execution_count": 6,
     "metadata": {},
     "output_type": "execute_result"
    }
   ],
   "source": [
    "fffn.mutual_friends"
   ]
  },
  {
   "cell_type": "code",
   "execution_count": null,
   "id": "6a330d69",
   "metadata": {},
   "outputs": [],
   "source": [
    "fffn._get_mutual_friends_from_mutual_friends_html(fffn.driver)"
   ]
  },
  {
   "cell_type": "code",
   "execution_count": null,
   "id": "ffb5b34b",
   "metadata": {},
   "outputs": [],
   "source": [
    "fffn._mutual_friends_page_is_loading()"
   ]
  }
 ],
 "metadata": {
  "kernelspec": {
   "display_name": "Python 3 (ipykernel)",
   "language": "python",
   "name": "python3"
  },
  "language_info": {
   "codemirror_mode": {
    "name": "ipython",
    "version": 3
   },
   "file_extension": ".py",
   "mimetype": "text/x-python",
   "name": "python",
   "nbconvert_exporter": "python",
   "pygments_lexer": "ipython3",
   "version": "3.8.5"
  },
  "toc": {
   "base_numbering": 1,
   "nav_menu": {},
   "number_sections": true,
   "sideBar": true,
   "skip_h1_title": false,
   "title_cell": "Table of Contents",
   "title_sidebar": "Contents",
   "toc_cell": true,
   "toc_position": {},
   "toc_section_display": true,
   "toc_window_display": false
  }
 },
 "nbformat": 4,
 "nbformat_minor": 5
}
